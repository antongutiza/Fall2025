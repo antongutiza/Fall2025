{
  "nbformat": 4,
  "nbformat_minor": 0,
  "metadata": {
    "colab": {
      "provenance": [],
      "authorship_tag": "ABX9TyO6Mv+IgOR+QddUj3fg9fZC",
      "include_colab_link": true
    },
    "kernelspec": {
      "name": "python3",
      "display_name": "Python 3"
    },
    "language_info": {
      "name": "python"
    }
  },
  "cells": [
    {
      "cell_type": "markdown",
      "metadata": {
        "id": "view-in-github",
        "colab_type": "text"
      },
      "source": [
        "<a href=\"https://colab.research.google.com/github/antongutiza/Fall2025/blob/main/Goal_1_Prompt_Chaining_Coding_Exercise.ipynb\" target=\"_parent\"><img src=\"https://colab.research.google.com/assets/colab-badge.svg\" alt=\"Open In Colab\"/></a>"
      ]
    },
    {
      "cell_type": "code",
      "source": [
        "# Goal 1: Prompt Chaining for a Customer Support AI\n",
        "\n",
        "def customer_support():\n",
        "    print(\"🤖 Hello! Welcome to our customer support.\")\n",
        "    print(\"I'm here to help you with any questions or concerns.\")\n",
        "    print(\"\\nPlease choose an option below:\")\n",
        "\n",
        "    while True:\n",
        "        print(\"\\n1️⃣ Forgot Password\")\n",
        "        print(\"2️⃣ Login Issues\")\n",
        "        print(\"3️⃣ Product Information\")\n",
        "        print(\"4️⃣ Talk to a human agent\")\n",
        "        print(\"5️⃣ Exit\\n\")\n",
        "\n",
        "        choice = input(\"Enter the number of your choice: \")\n",
        "\n",
        "        if choice == \"1\":\n",
        "            print(\"\\n🔐 Here's how to reset your password:\")\n",
        "            print(\"1. Go to the login page\")\n",
        "            print(\"2. Click 'Forgot Password?'\")\n",
        "            print(\"3. Enter your email address\")\n",
        "            print(\"4. Follow the reset link sent to your inbox\")\n",
        "            print(\"✅ Your password should now be reset!\\n\")\n",
        "\n",
        "        elif choice == \"2\":\n",
        "            print(\"\\n⚠️ Sorry to hear you're having trouble logging in.\")\n",
        "            print(\"Can you tell me what error message you see?\")\n",
        "            print(\"(Hint: Type 'network', 'invalid', or 'timeout')\")\n",
        "            issue = input(\"Your answer: \").lower()\n",
        "\n",
        "            if \"network\" in issue:\n",
        "                print(\"🌐 Please check your internet connection and try again.\")\n",
        "            elif \"invalid\" in issue:\n",
        "                print(\"❌ Make sure your username and password are correct.\")\n",
        "            elif \"timeout\" in issue:\n",
        "                print(\"⏱️ The server may be busy. Try again in a few minutes.\")\n",
        "            else:\n",
        "                print(\"💭 Thanks! I'll forward this to a support agent.\")\n",
        "\n",
        "        elif choice == \"3\":\n",
        "            print(\"\\n📦 Our products include:\")\n",
        "            print(\"- Cloud storage solutions\")\n",
        "            print(\"- AI analytics tools\")\n",
        "            print(\"- Collaboration software\\n\")\n",
        "            print(\"Would you like pricing info? (yes/no)\")\n",
        "            if input().lower() == \"yes\":\n",
        "                print(\"💰 Pricing details have been sent to your email!\\n\")\n",
        "\n",
        "        elif choice == \"4\":\n",
        "            print(\"\\n👩‍💼 Connecting you to a human agent...\")\n",
        "            print(\"⏳ Please wait while we transfer you.\\n\")\n",
        "            break\n",
        "\n",
        "        elif choice == \"5\":\n",
        "            print(\"\\n👋 Thank you for chatting with us. Have a great day!\")\n",
        "            break\n",
        "\n",
        "        else:\n",
        "            print(\"❗ Invalid choice. Please select a number 1–5.\")\n",
        "\n",
        "# Run the chatbot\n",
        "customer_support()\n"
      ],
      "metadata": {
        "colab": {
          "base_uri": "https://localhost:8080/"
        },
        "id": "VIpAltDaG-ZQ",
        "outputId": "a07f5de9-3470-420f-95ae-0d38e6b28ff3"
      },
      "execution_count": null,
      "outputs": [
        {
          "output_type": "stream",
          "name": "stdout",
          "text": [
            "🤖 Hello! Welcome to our customer support.\n",
            "I'm here to help you with any questions or concerns.\n",
            "\n",
            "Please choose an option below:\n",
            "\n",
            "1️⃣ Forgot Password\n",
            "2️⃣ Login Issues\n",
            "3️⃣ Product Information\n",
            "4️⃣ Talk to a human agent\n",
            "5️⃣ Exit\n",
            "\n",
            "Enter the number of your choice: 1\n",
            "\n",
            "🔐 Here's how to reset your password:\n",
            "1. Go to the login page\n",
            "2. Click 'Forgot Password?'\n",
            "3. Enter your email address\n",
            "4. Follow the reset link sent to your inbox\n",
            "✅ Your password should now be reset!\n",
            "\n",
            "\n",
            "1️⃣ Forgot Password\n",
            "2️⃣ Login Issues\n",
            "3️⃣ Product Information\n",
            "4️⃣ Talk to a human agent\n",
            "5️⃣ Exit\n",
            "\n"
          ]
        }
      ]
    }
  ]
}