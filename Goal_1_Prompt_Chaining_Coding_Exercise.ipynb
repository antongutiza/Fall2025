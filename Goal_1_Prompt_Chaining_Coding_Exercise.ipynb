{
  "nbformat": 4,
  "nbformat_minor": 0,
  "metadata": {
    "colab": {
      "provenance": [],
      "authorship_tag": "ABX9TyPP9LN3oGSDZgOAlCyjULOD",
      "include_colab_link": true
    },
    "kernelspec": {
      "name": "python3",
      "display_name": "Python 3"
    },
    "language_info": {
      "name": "python"
    }
  },
  "cells": [
    {
      "cell_type": "markdown",
      "metadata": {
        "id": "view-in-github",
        "colab_type": "text"
      },
      "source": [
        "<a href=\"https://colab.research.google.com/github/antongutiza/Fall2025/blob/main/Goal_1_Prompt_Chaining_Coding_Exercise.ipynb\" target=\"_parent\"><img src=\"https://colab.research.google.com/assets/colab-badge.svg\" alt=\"Open In Colab\"/></a>"
      ]
    },
    {
      "cell_type": "code",
      "source": [
        "# Goal #1: Prompt Chaining for a Customer Support AI\n",
        "# Demonstrates prompt chaining through a step-by-step simulated customer support chat.\n",
        "\n",
        "print(\"🤖 AI: Hello! Welcome to TechEase Support. I'm Ava, your virtual assistant.\")\n",
        "print(\"How can I help you today?\")\n",
        "print(\"\\nPlease choose one of the following options:\")\n",
        "print(\"1️⃣ Reset my password\")\n",
        "print(\"2️⃣ Trouble logging in\")\n",
        "print(\"3️⃣ Other issue\")\n",
        "\n",
        "# Step 1: Get user's initial choice\n",
        "choice = input(\"\\nYour choice (1/2/3): \").strip()\n",
        "\n",
        "# Step 2: Branch based on user choice\n",
        "if choice == \"1\":\n",
        "    print(\"\\n🤖 AI: I can help you with that! Are you trying to reset your password because you forgot it, or just want to change it for security reasons?\")\n",
        "    reason = input(\"You: \").lower()\n",
        "\n",
        "    print(\"\\n🤖 AI: Here's how to reset your password:\")\n",
        "    print(\"1. Go to the login page\")\n",
        "    print(\"2. Click 'Forgot Password?'\")\n",
        "    print(\"3. Enter your registered email address\")\n",
        "    print(\"4. Check your email for the reset link\")\n",
        "    print(\"\\nWould you like me to resend the password reset email for you? (yes/no)\")\n",
        "    resend = input(\"You: \").lower()\n",
        "\n",
        "    if \"yes\" in resend:\n",
        "        print(\"\\n🤖 AI: Great! I’ve just sent a new password reset email to your inbox. Please check your spam folder if you don’t see it soon.\")\n",
        "    else:\n",
        "        print(\"\\n🤖 AI: No problem! You can always request it manually from the login page.\")\n",
        "\n",
        "elif choice == \"2\":\n",
        "    print(\"\\n🤖 AI: Got it. Could you describe what happens when you try to log in?\")\n",
        "    issue = input(\"You: \")\n",
        "\n",
        "    print(\"\\n🤖 AI: Thanks for explaining! Please try these steps:\")\n",
        "    print(\"1. Clear your browser cache and cookies\")\n",
        "    print(\"2. Double-check your username and password\")\n",
        "    print(\"3. Try logging in using a private or incognito browser window\")\n",
        "    print(\"\\nDid any of these steps work for you? (yes/no)\")\n",
        "    success = input(\"You: \").lower()\n",
        "\n",
        "    if \"yes\" in success:\n",
        "        print(\"\\n🤖 AI: Awesome! Glad that worked. Is there anything else I can help with today?\")\n",
        "    else:\n",
        "        print(\"\\n🤖 AI: Thanks for letting me know. I’ll forward this to our technical team for deeper investigation.\")\n",
        "\n",
        "elif choice == \"3\":\n",
        "    print(\"\\n🤖 AI: No worries! Please describe your issue briefly so I can connect you with the right support resource.\")\n",
        "    details = input(\"You: \")\n",
        "    print(\"\\n🤖 AI: Thanks for the info! I’ve forwarded your message to our support team.\")\n",
        "    print(\"You’ll receive a response via email within the next few hours.\")\n",
        "\n",
        "else:\n",
        "    print(\"\\n🤖 AI: Sorry, I didn’t catch that. Please restart and select one of the listed options.\")\n",
        "\n",
        "# Step 3: Closing message\n",
        "print(\"\\n🤖 AI: Thank you for contacting TechEase Support. Have a wonderful day! 🌟\")\n"
      ],
      "metadata": {
        "colab": {
          "base_uri": "https://localhost:8080/"
        },
        "id": "2PNSJFk_VWtq",
        "outputId": "f82b6a18-a338-4b37-fb1e-8de7c0df442e"
      },
      "execution_count": 8,
      "outputs": [
        {
          "output_type": "stream",
          "name": "stdout",
          "text": [
            "🤖 AI: Hello! Welcome to TechEase Support. I'm Ava, your virtual assistant.\n",
            "How can I help you today?\n",
            "\n",
            "Please choose one of the following options:\n",
            "1️⃣ Reset my password\n",
            "2️⃣ Trouble logging in\n",
            "3️⃣ Other issue\n",
            "\n",
            "Your choice (1/2/3): 1\n",
            "\n",
            "🤖 AI: I can help you with that! Are you trying to reset your password because you forgot it, or just want to change it for security reasons?\n",
            "You: change it\n",
            "\n",
            "🤖 AI: Here's how to reset your password:\n",
            "1. Go to the login page\n",
            "2. Click 'Forgot Password?'\n",
            "3. Enter your registered email address\n",
            "4. Check your email for the reset link\n",
            "\n",
            "Would you like me to resend the password reset email for you? (yes/no)\n",
            "You: yes\n",
            "\n",
            "🤖 AI: Great! I’ve just sent a new password reset email to your inbox. Please check your spam folder if you don’t see it soon.\n",
            "\n",
            "🤖 AI: Thank you for contacting TechEase Support. Have a wonderful day! 🌟\n"
          ]
        }
      ]
    }
  ]
}