{
  "nbformat": 4,
  "nbformat_minor": 0,
  "metadata": {
    "colab": {
      "provenance": [],
      "authorship_tag": "ABX9TyNp9W2JUcC0fd9kmftMd5X+",
      "include_colab_link": true
    },
    "kernelspec": {
      "name": "python3",
      "display_name": "Python 3"
    },
    "language_info": {
      "name": "python"
    }
  },
  "cells": [
    {
      "cell_type": "markdown",
      "metadata": {
        "id": "view-in-github",
        "colab_type": "text"
      },
      "source": [
        "<a href=\"https://colab.research.google.com/github/antongutiza/Fall2025/blob/main/Goal_3_Self_Reflection_Prompt_for_Improving_Output.ipynb\" target=\"_parent\"><img src=\"https://colab.research.google.com/assets/colab-badge.svg\" alt=\"Open In Colab\"/></a>"
      ]
    },
    {
      "cell_type": "code",
      "source": [
        "# Goal 3: Self-Reflection Prompt for Improving Output\n",
        "\n",
        "from openai import OpenAI\n",
        "import getpass  # safer for hiding input\n",
        "\n",
        "# Prompt user to enter API key securely\n",
        "api_key = getpass.getpass(\"Enter your OpenAI API key: \")\n",
        "\n",
        "# Initialize the OpenAI client\n",
        "client = OpenAI(api_key=api_key)\n",
        "\n",
        "# Define the self-reflection prompt\n",
        "prompt = \"\"\"\n",
        "You are a reflective AI writing assistant.\n",
        "Task: Write a short summary about why emotional intelligence is essential for leadership success.\n",
        "\n",
        "Then follow this structure:\n",
        "1. Reflection: Critique your summary. Identify unclear sentences, tone issues, or missing details.\n",
        "2. Improved Version: Rewrite the summary based on your critique.\n",
        "\"\"\"\n",
        "\n",
        "# Generate the response\n",
        "response = client.chat.completions.create(\n",
        "    model=\"gpt-4o-mini\",\n",
        "    messages=[{\"role\": \"user\", \"content\": prompt}]\n",
        ")\n",
        "\n",
        "# Print the AI’s output\n",
        "print(response.choices[0].message.content)\n"
      ],
      "metadata": {
        "colab": {
          "base_uri": "https://localhost:8080/"
        },
        "id": "zGXybWduWJn4",
        "outputId": "a927c779-3e1d-4a27-8343-71be8e1d1a81"
      },
      "execution_count": 3,
      "outputs": [
        {
          "output_type": "stream",
          "name": "stdout",
          "text": [
            "Enter your OpenAI API key: ··········\n",
            "### Summary:\n",
            "Emotional intelligence (EI) is vital for leadership success as it enables leaders to understand, manage, and leverage their own emotions and those of others. Leaders with high EI foster strong relationships, improve team collaboration, and enhance decision-making by being more empathetic and adaptable. This ability to connect emotionally with team members helps to create a positive work environment, ultimately leading to increased employee satisfaction and productivity.\n",
            "\n",
            "### Reflection:\n",
            "Upon reflecting on this summary, I noticed that while it conveys the importance of emotional intelligence for leaders, some sentences could be clearer and more specific. For instance, explaining how EI influences decision-making could benefit from examples. The tone generally aligns with a professional context, but it might come off as slightly generic without concrete details. Additionally, discussing the broader implications of high EI in leadership, such as its impact on organizational culture or long-term success, could enhance the summary.\n",
            "\n",
            "### Improved Version:\n",
            "Emotional intelligence (EI) is crucial for effective leadership because it equips leaders with the ability to recognize and manage their own emotions while empathizing with the feelings of others. This understanding fosters the development of strong relationships within teams, enhancing collaboration and trust. Leaders who demonstrate high EI are better at decision-making, as they can consider diverse perspectives and respond empathetically to team concerns. Furthermore, by creating a supportive and inclusive work environment, emotionally intelligent leaders significantly boost employee engagement and satisfaction, which in turn drives higher productivity and contributes to a positive organizational culture. Ultimately, the integration of emotional intelligence into leadership practices not only influences immediate team dynamics but also lays the foundation for sustained organizational success.\n"
          ]
        }
      ]
    }
  ]
}