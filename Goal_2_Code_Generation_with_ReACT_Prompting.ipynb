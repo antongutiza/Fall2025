{
  "nbformat": 4,
  "nbformat_minor": 0,
  "metadata": {
    "colab": {
      "provenance": [],
      "authorship_tag": "ABX9TyOxcwSenFncaH7+THg8XcX1",
      "include_colab_link": true
    },
    "kernelspec": {
      "name": "python3",
      "display_name": "Python 3"
    },
    "language_info": {
      "name": "python"
    }
  },
  "cells": [
    {
      "cell_type": "markdown",
      "metadata": {
        "id": "view-in-github",
        "colab_type": "text"
      },
      "source": [
        "<a href=\"https://colab.research.google.com/github/antongutiza/Fall2025/blob/main/Goal_2_Code_Generation_with_ReACT_Prompting.ipynb\" target=\"_parent\"><img src=\"https://colab.research.google.com/assets/colab-badge.svg\" alt=\"Open In Colab\"/></a>"
      ]
    },
    {
      "cell_type": "code",
      "source": [
        "# ==========================================\n",
        "# Goal 2: Code Generation with ReACT Prompting\n",
        "# ==========================================\n",
        "# ReACT = Reasoning + Acting\n",
        "# The AI first explains its reasoning, then executes the code.\n",
        "\n",
        "# Step 1: Reasoning (Thought)\n",
        "reasoning = \"\"\"\n",
        "Thought:\n",
        "To complete this task using ReACT prompting, I’ll think through the problem step-by-step:\n",
        "1. I need to prompt the user to enter a list of numbers separated by spaces.\n",
        "2. I’ll convert that input into a list of floats.\n",
        "3. Then, I’ll calculate the average (sum divided by count).\n",
        "4. Finally, I’ll print the average and check each number — printing whether it’s above, below, or equal to the average.\n",
        "This demonstrates reasoning (explaining what I’ll do) before action (executing code).\n",
        "\"\"\"\n",
        "\n",
        "print(reasoning)\n",
        "\n",
        "# Step 2: Action (Code Execution)\n",
        "print(\"Action: Executing the Python code below...\\n\")\n",
        "\n",
        "# Ask user for input\n",
        "numbers = [float(x) for x in input(\"Enter numbers separated by spaces: \").split()]\n",
        "\n",
        "# Calculate average\n",
        "avg = sum(numbers) / len(numbers)\n",
        "\n",
        "# Display results\n",
        "print(f\"\\nThe average is: {avg:.2f}\")\n",
        "for n in numbers:\n",
        "    if n > avg:\n",
        "        print(f\"{n} is above average.\")\n",
        "    elif n < avg:\n",
        "        print(f\"{n} is below average.\")\n",
        "    else:\n",
        "        print(f\"{n} is equal to the average.\")\n"
      ],
      "metadata": {
        "colab": {
          "base_uri": "https://localhost:8080/"
        },
        "id": "OXXuGVsIFljb",
        "outputId": "720034c5-4aa6-4233-8c5d-aef9df332aab"
      },
      "execution_count": 3,
      "outputs": [
        {
          "output_type": "stream",
          "name": "stdout",
          "text": [
            "\n",
            "Thought:\n",
            "To complete this task using ReACT prompting, I’ll think through the problem step-by-step:\n",
            "1. I need to prompt the user to enter a list of numbers separated by spaces.\n",
            "2. I’ll convert that input into a list of floats.\n",
            "3. Then, I’ll calculate the average (sum divided by count).\n",
            "4. Finally, I’ll print the average and check each number — printing whether it’s above, below, or equal to the average.\n",
            "This demonstrates reasoning (explaining what I’ll do) before action (executing code).\n",
            "\n",
            "Action: Executing the Python code below...\n",
            "\n",
            "Enter numbers separated by spaces: 6 7\n",
            "\n",
            "The average is: 6.50\n",
            "6.0 is below average.\n",
            "7.0 is above average.\n"
          ]
        }
      ]
    }
  ]
}